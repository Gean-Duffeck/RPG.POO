{
  "nbformat": 4,
  "nbformat_minor": 0,
  "metadata": {
    "colab": {
      "provenance": [],
      "authorship_tag": "ABX9TyNmbky4ZFJttR+KqO0Q6naz",
      "include_colab_link": true
    },
    "kernelspec": {
      "name": "python3",
      "display_name": "Python 3"
    },
    "language_info": {
      "name": "python"
    }
  },
  "cells": [
    {
      "cell_type": "markdown",
      "metadata": {
        "id": "view-in-github",
        "colab_type": "text"
      },
      "source": [
        "<a href=\"https://colab.research.google.com/github/Gean-Duffeck/RPG.POO/blob/main/RPG_POO.ipynb\" target=\"_parent\"><img src=\"https://colab.research.google.com/assets/colab-badge.svg\" alt=\"Open In Colab\"/></a>"
      ]
    },
    {
      "cell_type": "code",
      "execution_count": 19,
      "metadata": {
        "colab": {
          "base_uri": "https://localhost:8080/"
        },
        "id": "teuPLGIguT2S",
        "outputId": "1d9ad2f8-b4cf-452e-e376-a84a073cfa9d"
      },
      "outputs": [
        {
          "output_type": "stream",
          "name": "stdout",
          "text": [
            "Bem-vindo a batalha!\n",
            "\n",
            "\n",
            "Escolha seu personagem para a próxima missão:\n",
            "1. Guerreiro\n",
            "2. Mago\n",
            "3. Ladino\n",
            "Digite o número da sua escolha: 2\n",
            "\n",
            "Você escolheu um Mago!\n",
            "Eu sou um Mago e estou pronto para a aventura!\n"
          ]
        }
      ],
      "source": [
        "# Essa parte nos ajuda a criar um \"modelo\" para nossos personagens.\n",
        "from abc import ABC, abstractmethod\n",
        "\n",
        "class Personagem(ABC):\n",
        "\n",
        "    @abstractmethod\n",
        "    def atacar(self):\n",
        "        pass\n",
        "\n",
        "    @abstractmethod\n",
        "    def usar_habilidade_especial(self):\n",
        "        pass\n",
        "\n",
        "    def exibir_status(self):\n",
        "        print(f\"Eu sou um {self.__class__.__name__} e estou pronto para a aventura!\")\n",
        "\n",
        "\n",
        "class Guerreiro(Personagem):\n",
        "    def atacar(self):\n",
        "        print(\"Guerreiro desfere um golpe poderoso com sua espada!\")\n",
        "\n",
        "    def usar_habilidade_especial(self):\n",
        "        print(\"Guerreiro ativa 'Fúria do Bárbaro'!\")\n",
        "\n",
        "class Mago(Personagem):\n",
        "    def atacar(self):\n",
        "        print(\"Mago lança um projétil de energia arcana!\")\n",
        "\n",
        "    def usar_habilidade_especial(self):\n",
        "        print(\"Mago conjura 'Bola de Fogo'!\")\n",
        "\n",
        "class Ladino(Personagem):\n",
        "    def atacar(self):\n",
        "        print(\"Ladino realiza um ataque rápido com adagas!\")\n",
        "\n",
        "    def usar_habilidade_especial(self):\n",
        "        print(\"Ladino se esconde nas sombras com 'Furtividade'!\")\n",
        "\n",
        "\n",
        "if __name__ == \"__main__\":\n",
        "    print(\"Bem-vindo a batalha!\\n\")\n",
        "\n",
        "\n",
        "    # --- Permita que o jogador escolha um personagem ---\n",
        "    print(\"\\nEscolha seu personagem para a próxima missão:\")\n",
        "    print(\"1. Guerreiro\")\n",
        "    print(\"2. Mago\")\n",
        "    print(\"3. Ladino\")\n",
        "\n",
        "    escolha = input(\"Digite o número da sua escolha: \")\n",
        "\n",
        "    personagem_escolhido = None\n",
        "\n",
        "    if escolha == '1':\n",
        "        personagem_escolhido = Guerreiro()\n",
        "    elif escolha == '2':\n",
        "        personagem_escolhido = Mago()\n",
        "    elif escolha == '3':\n",
        "        personagem_escolhido = Ladino()\n",
        "    else:\n",
        "        print(\"Escolha inválida. Você será um Guerreiro por padrão!\")\n",
        "        personagem_escolhido = Guerreiro()\n",
        "\n",
        "    print(f\"\\nVocê escolheu um {personagem_escolhido.__class__.__name__}!\")\n",
        "    personagem_escolhido.exibir_status()"
      ]
    },
    {
      "cell_type": "code",
      "source": [
        "personagem_escolhido.atacar()"
      ],
      "metadata": {
        "colab": {
          "base_uri": "https://localhost:8080/"
        },
        "id": "rOG2Nx2WQe4R",
        "outputId": "d392771e-f816-46ba-e801-f030c7021b67"
      },
      "execution_count": 20,
      "outputs": [
        {
          "output_type": "stream",
          "name": "stdout",
          "text": [
            "Mago lança um projétil de energia arcana!\n"
          ]
        }
      ]
    },
    {
      "cell_type": "code",
      "source": [
        "personagem_escolhido.usar_habilidade_especial()"
      ],
      "metadata": {
        "colab": {
          "base_uri": "https://localhost:8080/"
        },
        "id": "FfeYXqO3QjeA",
        "outputId": "42ab93d2-e42b-4912-bec7-3d1ffa12cb82"
      },
      "execution_count": 21,
      "outputs": [
        {
          "output_type": "stream",
          "name": "stdout",
          "text": [
            "Mago conjura 'Bola de Fogo'!\n"
          ]
        }
      ]
    }
  ]
}